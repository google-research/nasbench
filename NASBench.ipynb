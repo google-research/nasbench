{
  "nbformat": 4,
  "nbformat_minor": 0,
  "metadata": {
    "colab": {
      "name": "NASBench.ipynb",
      "provenance": [],
      "collapsed_sections": [],
      "toc_visible": true
    },
    "kernelspec": {
      "name": "python3",
      "display_name": "Python 3"
    }
  },
  "cells": [
    {
      "cell_type": "markdown",
      "metadata": {
        "id": "SRxqMakh3PRY",
        "colab_type": "text"
      },
      "source": [
        "Copyright 2019 Google LLC\n",
        "\n",
        "Licensed under the Apache License, Version 2.0 (the \"License\");\n",
        "you may not use this file except in compliance with the License.\n",
        "You may obtain a copy of the License at\n",
        "\n",
        "    https://www.apache.org/licenses/LICENSE-2.0\n",
        "\n",
        "Unless required by applicable law or agreed to in writing, software\n",
        "distributed under the License is distributed on an \"AS IS\" BASIS,\n",
        "WITHOUT WARRANTIES OR CONDITIONS OF ANY KIND, either express or implied.\n",
        "See the License for the specific language governing permissions and\n",
        "limitations under the License."
      ]
    },
    {
      "cell_type": "markdown",
      "metadata": {
        "id": "47ieDn-jNLYd",
        "colab_type": "text"
      },
      "source": [
        "# NASBench-101\n",
        "\n",
        "This colab accompanies [**NAS-Bench-101: Towards Reproducible Neural Architecture Search**](https://arxiv.org/abs/1902.09635) and the rest of the code at https://github.com/google-research/nasbench.\n",
        "\n",
        "In this colab, we demonstrate how to use the dataset for simple benchmarking and analysis. The publicly available and free hosted colab instances are sufficient to run this colab."
      ]
    },
    {
      "cell_type": "markdown",
      "metadata": {
        "id": "lBNMsBUS3SAq",
        "colab_type": "text"
      },
      "source": [
        "## Load NASBench library and dataset"
      ]
    },
    {
      "cell_type": "code",
      "metadata": {
        "id": "vl1oLYux3FhJ",
        "colab_type": "code",
        "outputId": "260484df-3a86-48ef-88a4-f8e441d524bc",
        "colab": {
          "base_uri": "https://localhost:8080/",
          "height": 853
        }
      },
      "source": [
        "# This code was written in TF 1.12 but should be supported all the way through\n",
        "# TF 1.15. Untested in TF 2.0+.\n",
        "%tensorflow_version 1.x\n",
        "\n",
        "# Download the raw data (only 108 epoch data points, for full dataset,\n",
        "# uncomment the second line for nasbench_full.tfrecord).\n",
        "\n",
        "!curl -O https://storage.googleapis.com/nasbench/nasbench_only108.tfrecord\n",
        "# !curl -O https://storage.googleapis.com/nasbench/nasbench_full.tfrecord\n",
        "\n",
        "# Clone and install the code and dependencies.\n",
        "\n",
        "!git clone https://github.com/google-research/nasbench\n",
        "!pip install ./nasbench\n",
        "\n",
        "# Initialize the NASBench object which parses the raw data into memory (this\n",
        "# should only be run once as it takes up to a few minutes).\n",
        "from nasbench import api\n",
        "\n",
        "# Use nasbench_full.tfrecord for full dataset (run download command above).\n",
        "nasbench = api.NASBench('nasbench_only108.tfrecord')"
      ],
      "execution_count": 1,
      "outputs": [
        {
          "output_type": "stream",
          "text": [
            "  % Total    % Received % Xferd  Average Speed   Time    Time     Time  Current\n",
            "                                 Dload  Upload   Total   Spent    Left  Speed\n",
            "100  498M  100  498M    0     0  54.1M      0  0:00:09  0:00:09 --:--:-- 67.7M\n",
            "Cloning into 'nasbench'...\n",
            "remote: Enumerating objects: 92, done.\u001b[K\n",
            "remote: Total 92 (delta 0), reused 0 (delta 0), pack-reused 92\u001b[K\n",
            "Unpacking objects: 100% (92/92), done.\n",
            "Processing ./nasbench\n",
            "Requirement already satisfied: tensorflow>=1.12.0 in /usr/local/lib/python3.6/dist-packages (from nasbench==1.0) (1.15.0)\n",
            "Requirement already satisfied: opt-einsum>=2.3.2 in /usr/local/lib/python3.6/dist-packages (from tensorflow>=1.12.0->nasbench==1.0) (3.1.0)\n",
            "Requirement already satisfied: termcolor>=1.1.0 in /usr/local/lib/python3.6/dist-packages (from tensorflow>=1.12.0->nasbench==1.0) (1.1.0)\n",
            "Requirement already satisfied: keras-preprocessing>=1.0.5 in /usr/local/lib/python3.6/dist-packages (from tensorflow>=1.12.0->nasbench==1.0) (1.1.0)\n",
            "Requirement already satisfied: tensorflow-estimator==1.15.1 in /usr/local/lib/python3.6/dist-packages (from tensorflow>=1.12.0->nasbench==1.0) (1.15.1)\n",
            "Requirement already satisfied: astor>=0.6.0 in /usr/local/lib/python3.6/dist-packages (from tensorflow>=1.12.0->nasbench==1.0) (0.8.0)\n",
            "Requirement already satisfied: numpy<2.0,>=1.16.0 in /usr/local/lib/python3.6/dist-packages (from tensorflow>=1.12.0->nasbench==1.0) (1.17.3)\n",
            "Requirement already satisfied: six>=1.10.0 in /usr/local/lib/python3.6/dist-packages (from tensorflow>=1.12.0->nasbench==1.0) (1.12.0)\n",
            "Requirement already satisfied: absl-py>=0.7.0 in /usr/local/lib/python3.6/dist-packages (from tensorflow>=1.12.0->nasbench==1.0) (0.8.1)\n",
            "Requirement already satisfied: keras-applications>=1.0.8 in /usr/local/lib/python3.6/dist-packages (from tensorflow>=1.12.0->nasbench==1.0) (1.0.8)\n",
            "Requirement already satisfied: gast==0.2.2 in /usr/local/lib/python3.6/dist-packages (from tensorflow>=1.12.0->nasbench==1.0) (0.2.2)\n",
            "Requirement already satisfied: protobuf>=3.6.1 in /usr/local/lib/python3.6/dist-packages (from tensorflow>=1.12.0->nasbench==1.0) (3.10.0)\n",
            "Requirement already satisfied: google-pasta>=0.1.6 in /usr/local/lib/python3.6/dist-packages (from tensorflow>=1.12.0->nasbench==1.0) (0.1.7)\n",
            "Requirement already satisfied: tensorboard<1.16.0,>=1.15.0 in /usr/local/lib/python3.6/dist-packages (from tensorflow>=1.12.0->nasbench==1.0) (1.15.0)\n",
            "Requirement already satisfied: grpcio>=1.8.6 in /usr/local/lib/python3.6/dist-packages (from tensorflow>=1.12.0->nasbench==1.0) (1.15.0)\n",
            "Requirement already satisfied: wheel>=0.26 in /usr/local/lib/python3.6/dist-packages (from tensorflow>=1.12.0->nasbench==1.0) (0.33.6)\n",
            "Requirement already satisfied: wrapt>=1.11.1 in /usr/local/lib/python3.6/dist-packages (from tensorflow>=1.12.0->nasbench==1.0) (1.11.2)\n",
            "Requirement already satisfied: h5py in /usr/local/lib/python3.6/dist-packages (from keras-applications>=1.0.8->tensorflow>=1.12.0->nasbench==1.0) (2.8.0)\n",
            "Requirement already satisfied: setuptools in /usr/local/lib/python3.6/dist-packages (from protobuf>=3.6.1->tensorflow>=1.12.0->nasbench==1.0) (41.4.0)\n",
            "Requirement already satisfied: werkzeug>=0.11.15 in /usr/local/lib/python3.6/dist-packages (from tensorboard<1.16.0,>=1.15.0->tensorflow>=1.12.0->nasbench==1.0) (0.16.0)\n",
            "Requirement already satisfied: markdown>=2.6.8 in /usr/local/lib/python3.6/dist-packages (from tensorboard<1.16.0,>=1.15.0->tensorflow>=1.12.0->nasbench==1.0) (3.1.1)\n",
            "Building wheels for collected packages: nasbench\n",
            "  Building wheel for nasbench (setup.py) ... \u001b[?25l\u001b[?25hdone\n",
            "  Created wheel for nasbench: filename=nasbench-1.0-cp36-none-any.whl size=46791 sha256=88bafd1b9d560fd0fe9b6f8ceac03001e0b42b4dc2718648550569f654f098b3\n",
            "  Stored in directory: /tmp/pip-ephem-wheel-cache-blg0rruf/wheels/4b/19/99/1d5fdfe30f8b16fab91e900808f4f7e5adc38e602c84970ad5\n",
            "Successfully built nasbench\n",
            "Installing collected packages: nasbench\n",
            "Successfully installed nasbench-1.0\n",
            "WARNING:tensorflow:From /usr/local/lib/python3.6/dist-packages/nasbench/lib/training_time.py:130: The name tf.train.SessionRunHook is deprecated. Please use tf.estimator.SessionRunHook instead.\n",
            "\n",
            "WARNING:tensorflow:From /usr/local/lib/python3.6/dist-packages/nasbench/lib/training_time.py:174: The name tf.train.CheckpointSaverListener is deprecated. Please use tf.estimator.CheckpointSaverListener instead.\n",
            "\n",
            "WARNING:tensorflow:From /usr/local/lib/python3.6/dist-packages/nasbench/lib/evaluate.py:30: The name tf.train.NanLossDuringTrainingError is deprecated. Please use tf.estimator.NanLossDuringTrainingError instead.\n",
            "\n",
            "Loading dataset from file... This may take a few minutes...\n",
            "WARNING:tensorflow:From /usr/local/lib/python3.6/dist-packages/nasbench/api.py:146: tf_record_iterator (from tensorflow.python.lib.io.tf_record) is deprecated and will be removed in a future version.\n",
            "Instructions for updating:\n",
            "Use eager execution and: \n",
            "`tf.data.TFRecordDataset(path)`\n",
            "Loaded dataset in 53 seconds\n"
          ],
          "name": "stdout"
        }
      ]
    },
    {
      "cell_type": "code",
      "metadata": {
        "id": "oFhFRmck7NzM",
        "colab_type": "code",
        "colab": {}
      },
      "source": [
        "# Standard imports\n",
        "import copy\n",
        "import numpy as np\n",
        "import matplotlib.pyplot as plt\n",
        "import random\n",
        "\n",
        "# Useful constants\n",
        "INPUT = 'input'\n",
        "OUTPUT = 'output'\n",
        "CONV3X3 = 'conv3x3-bn-relu'\n",
        "CONV1X1 = 'conv1x1-bn-relu'\n",
        "MAXPOOL3X3 = 'maxpool3x3'\n",
        "NUM_VERTICES = 7\n",
        "MAX_EDGES = 9\n",
        "EDGE_SPOTS = NUM_VERTICES * (NUM_VERTICES - 1) / 2   # Upper triangular matrix\n",
        "OP_SPOTS = NUM_VERTICES - 2   # Input/output vertices are fixed\n",
        "ALLOWED_OPS = [CONV3X3, CONV1X1, MAXPOOL3X3]\n",
        "ALLOWED_EDGES = [0, 1]   # Binary adjacency matrix"
      ],
      "execution_count": 0,
      "outputs": []
    },
    {
      "cell_type": "markdown",
      "metadata": {
        "id": "llC2AebQOWq9",
        "colab_type": "text"
      },
      "source": [
        "## Basic usage"
      ]
    },
    {
      "cell_type": "code",
      "metadata": {
        "id": "kZvm6i0VGP_M",
        "colab_type": "code",
        "outputId": "2999b6a6-9f1d-4361-8be9-ee54afdb82be",
        "colab": {
          "base_uri": "https://localhost:8080/",
          "height": 258
        }
      },
      "source": [
        "# Query an Inception-like cell from the dataset.\n",
        "cell = api.ModelSpec(\n",
        "  matrix=[[0, 1, 1, 1, 0, 1, 0],    # input layer\n",
        "          [0, 0, 0, 0, 0, 0, 1],    # 1x1 conv\n",
        "          [0, 0, 0, 0, 0, 0, 1],    # 3x3 conv\n",
        "          [0, 0, 0, 0, 1, 0, 0],    # 5x5 conv (replaced by two 3x3's)\n",
        "          [0, 0, 0, 0, 0, 0, 1],    # 5x5 conv (replaced by two 3x3's)\n",
        "          [0, 0, 0, 0, 0, 0, 1],    # 3x3 max-pool\n",
        "          [0, 0, 0, 0, 0, 0, 0]],   # output layer\n",
        "  # Operations at the vertices of the module, matches order of matrix.\n",
        "  ops=[INPUT, CONV1X1, CONV3X3, CONV3X3, CONV3X3, MAXPOOL3X3, OUTPUT])\n",
        "\n",
        "# Querying multiple times may yield different results. Each cell is evaluated 3\n",
        "# times at each epoch budget and querying will sample one randomly.\n",
        "data = nasbench.query(cell)\n",
        "for k, v in data.items():\n",
        "  print('%s: %s' % (k, str(v)))"
      ],
      "execution_count": 3,
      "outputs": [
        {
          "output_type": "stream",
          "text": [
            "module_adjacency: [[0 1 1 1 1 0 0]\n",
            " [0 0 0 0 0 0 1]\n",
            " [0 0 0 0 0 0 1]\n",
            " [0 0 0 0 0 0 1]\n",
            " [0 0 0 0 0 1 0]\n",
            " [0 0 0 0 0 0 1]\n",
            " [0 0 0 0 0 0 0]]\n",
            "module_operations: ['input', 'conv3x3-bn-relu', 'conv1x1-bn-relu', 'maxpool3x3', 'conv3x3-bn-relu', 'conv3x3-bn-relu', 'output']\n",
            "trainable_parameters: 2694282\n",
            "training_time: 1155.85302734375\n",
            "train_accuracy: 1.0\n",
            "validation_accuracy: 0.9376001358032227\n",
            "test_accuracy: 0.9311898946762085\n"
          ],
          "name": "stdout"
        }
      ]
    },
    {
      "cell_type": "markdown",
      "metadata": {
        "id": "uXnVdG32Oe19",
        "colab_type": "text"
      },
      "source": [
        "## Example search experiment (random vs. evolution)"
      ]
    },
    {
      "cell_type": "code",
      "metadata": {
        "id": "Xtl_Aqr7OeOF",
        "colab_type": "code",
        "colab": {}
      },
      "source": [
        "def random_spec():\n",
        "  \"\"\"Returns a random valid spec.\"\"\"\n",
        "  while True:\n",
        "    matrix = np.random.choice(ALLOWED_EDGES, size=(NUM_VERTICES, NUM_VERTICES))\n",
        "    matrix = np.triu(matrix, 1)\n",
        "    ops = np.random.choice(ALLOWED_OPS, size=(NUM_VERTICES)).tolist()\n",
        "    ops[0] = INPUT\n",
        "    ops[-1] = OUTPUT\n",
        "    spec = api.ModelSpec(matrix=matrix, ops=ops)\n",
        "    if nasbench.is_valid(spec):\n",
        "      return spec\n",
        "\n",
        "def mutate_spec(old_spec, mutation_rate=1.0):\n",
        "  \"\"\"Computes a valid mutated spec from the old_spec.\"\"\"\n",
        "  while True:\n",
        "    new_matrix = copy.deepcopy(old_spec.original_matrix)\n",
        "    new_ops = copy.deepcopy(old_spec.original_ops)\n",
        "\n",
        "    # In expectation, V edges flipped (note that most end up being pruned).\n",
        "    edge_mutation_prob = mutation_rate / NUM_VERTICES\n",
        "    for src in range(0, NUM_VERTICES - 1):\n",
        "      for dst in range(src + 1, NUM_VERTICES):\n",
        "        if random.random() < edge_mutation_prob:\n",
        "          new_matrix[src, dst] = 1 - new_matrix[src, dst]\n",
        "          \n",
        "    # In expectation, one op is resampled.\n",
        "    op_mutation_prob = mutation_rate / OP_SPOTS\n",
        "    for ind in range(1, NUM_VERTICES - 1):\n",
        "      if random.random() < op_mutation_prob:\n",
        "        available = [o for o in nasbench.config['available_ops'] if o != new_ops[ind]]\n",
        "        new_ops[ind] = random.choice(available)\n",
        "        \n",
        "    new_spec = api.ModelSpec(new_matrix, new_ops)\n",
        "    if nasbench.is_valid(new_spec):\n",
        "      return new_spec\n",
        "\n",
        "def random_combination(iterable, sample_size):\n",
        "  \"\"\"Random selection from itertools.combinations(iterable, r).\"\"\"\n",
        "  pool = tuple(iterable)\n",
        "  n = len(pool)\n",
        "  indices = sorted(random.sample(range(n), sample_size))\n",
        "  return tuple(pool[i] for i in indices)\n",
        "\n",
        "def run_random_search(max_time_budget=5e6):\n",
        "  \"\"\"Run a single roll-out of random search to a fixed time budget.\"\"\"\n",
        "  nasbench.reset_budget_counters()\n",
        "  times, best_valids, best_tests = [0.0], [0.0], [0.0]\n",
        "  while True:\n",
        "    spec = random_spec()\n",
        "    data = nasbench.query(spec)\n",
        "\n",
        "    # It's important to select models only based on validation accuracy, test\n",
        "    # accuracy is used only for comparing different search trajectories.\n",
        "    if data['validation_accuracy'] > best_valids[-1]:\n",
        "      best_valids.append(data['validation_accuracy'])\n",
        "      best_tests.append(data['test_accuracy'])\n",
        "    else:\n",
        "      best_valids.append(best_valids[-1])\n",
        "      best_tests.append(best_tests[-1])\n",
        "\n",
        "    time_spent, _ = nasbench.get_budget_counters()\n",
        "    times.append(time_spent)\n",
        "    if time_spent > max_time_budget:\n",
        "      # Break the first time we exceed the budget.\n",
        "      break\n",
        "\n",
        "  return times, best_valids, best_tests\n",
        "\n",
        "def run_evolution_search(max_time_budget=5e6,\n",
        "                         population_size=50,\n",
        "                         tournament_size=10,\n",
        "                         mutation_rate=1.0):\n",
        "  \"\"\"Run a single roll-out of regularized evolution to a fixed time budget.\"\"\"\n",
        "  nasbench.reset_budget_counters()\n",
        "  times, best_valids, best_tests = [0.0], [0.0], [0.0]\n",
        "  population = []   # (validation, spec) tuples\n",
        "\n",
        "  # For the first population_size individuals, seed the population with randomly\n",
        "  # generated cells.\n",
        "  for _ in range(population_size):\n",
        "    spec = random_spec()\n",
        "    data = nasbench.query(spec)\n",
        "    time_spent, _ = nasbench.get_budget_counters()\n",
        "    times.append(time_spent)\n",
        "    population.append((data['validation_accuracy'], spec))\n",
        "\n",
        "    if data['validation_accuracy'] > best_valids[-1]:\n",
        "      best_valids.append(data['validation_accuracy'])\n",
        "      best_tests.append(data['test_accuracy'])\n",
        "    else:\n",
        "      best_valids.append(best_valids[-1])\n",
        "      best_tests.append(best_tests[-1])\n",
        "\n",
        "    if time_spent > max_time_budget:\n",
        "      break\n",
        "\n",
        "  # After the population is seeded, proceed with evolving the population.\n",
        "  while True:\n",
        "    sample = random_combination(population, tournament_size)\n",
        "    best_spec = sorted(sample, key=lambda i:i[0])[-1][1]\n",
        "    new_spec = mutate_spec(best_spec, mutation_rate)\n",
        "\n",
        "    data = nasbench.query(new_spec)\n",
        "    time_spent, _ = nasbench.get_budget_counters()\n",
        "    times.append(time_spent)\n",
        "\n",
        "    # In regularized evolution, we kill the oldest individual in the population.\n",
        "    population.append((data['validation_accuracy'], new_spec))\n",
        "    population.pop(0)\n",
        "\n",
        "    if data['validation_accuracy'] > best_valids[-1]:\n",
        "      best_valids.append(data['validation_accuracy'])\n",
        "      best_tests.append(data['test_accuracy'])\n",
        "    else:\n",
        "      best_valids.append(best_valids[-1])\n",
        "      best_tests.append(best_tests[-1])\n",
        "\n",
        "    if time_spent > max_time_budget:\n",
        "      break\n",
        "\n",
        "  return times, best_valids, best_tests\n",
        "  "
      ],
      "execution_count": 0,
      "outputs": []
    },
    {
      "cell_type": "code",
      "metadata": {
        "id": "HMfF2zXxpQNA",
        "colab_type": "code",
        "outputId": "edff2ca4-8a55-4537-838a-dedc7a9f360b",
        "colab": {
          "base_uri": "https://localhost:8080/",
          "height": 187
        }
      },
      "source": [
        "# Run random search and evolution search 10 times each. This should take a few\n",
        "# minutes to run. Note that each run would have taken days of compute to\n",
        "# actually train and evaluate if the dataset were not precomputed.\n",
        "random_data = []\n",
        "evolution_data = []\n",
        "for repeat in range(10):\n",
        "  print('Running repeat %d' % (repeat + 1))\n",
        "  times, best_valid, best_test = run_random_search()\n",
        "  random_data.append((times, best_valid, best_test))\n",
        "\n",
        "  times, best_valid, best_test = run_evolution_search()\n",
        "  evolution_data.append((times, best_valid, best_test))"
      ],
      "execution_count": 5,
      "outputs": [
        {
          "output_type": "stream",
          "text": [
            "Running repeat 1\n",
            "Running repeat 2\n",
            "Running repeat 3\n",
            "Running repeat 4\n",
            "Running repeat 5\n",
            "Running repeat 6\n",
            "Running repeat 7\n",
            "Running repeat 8\n",
            "Running repeat 9\n",
            "Running repeat 10\n"
          ],
          "name": "stdout"
        }
      ]
    },
    {
      "cell_type": "code",
      "metadata": {
        "id": "2d-yRmuhkz35",
        "colab_type": "code",
        "outputId": "2ae12897-074f-4705-db94-6be1aa4208dc",
        "colab": {
          "base_uri": "https://localhost:8080/",
          "height": 367
        }
      },
      "source": [
        "plt.figure(figsize=(20, 5))\n",
        "\n",
        "plt.subplot(1, 3, 1)\n",
        "for times, best_valid, best_test in random_data:\n",
        "  plt.plot(times, best_valid, label='valid', color='red', alpha=0.5)\n",
        "  plt.plot(times, best_test, label='test', color='blue', alpha=0.5)\n",
        "\n",
        "plt.ylabel('accuracy')\n",
        "plt.xlabel('time spent (seconds)')\n",
        "plt.ylim(0.92, 0.96)\n",
        "plt.grid()\n",
        "plt.title('Random search trajectories (red=validation, blue=test)')\n",
        "\n",
        "\n",
        "plt.subplot(1, 3, 2)\n",
        "for times, best_valid, best_test in evolution_data:\n",
        "  plt.plot(times, best_valid, label='valid', color='red', alpha=0.5)\n",
        "  plt.plot(times, best_test, label='test', color='blue', alpha=0.5)\n",
        "\n",
        "plt.ylabel('accuracy')\n",
        "plt.xlabel('time spent (seconds)')\n",
        "plt.ylim(0.92, 0.96)\n",
        "plt.grid()\n",
        "plt.title('Evolution search trajectories (red=validation, blue=test)')"
      ],
      "execution_count": 6,
      "outputs": [
        {
          "output_type": "execute_result",
          "data": {
            "text/plain": [
              "Text(0.5, 1.0, 'Evolution search trajectories (red=validation, blue=test)')"
            ]
          },
          "metadata": {
            "tags": []
          },
          "execution_count": 6
        },
        {
          "output_type": "display_data",
          "data": {
            "image/png": "[encoded data removed]",
            "text/plain": [
              "<Figure size 1440x360 with 2 Axes>"
            ]
          },
          "metadata": {
            "tags": []
          }
        }
      ]
    },
    {
      "cell_type": "code",
      "metadata": {
        "id": "F9lB_qL2oz9M",
        "colab_type": "code",
        "outputId": "2a9d25c8-3adb-456a-ae2d-3229a7ed8bfe",
        "colab": {
          "base_uri": "https://localhost:8080/",
          "height": 283
        }
      },
      "source": [
        "# Compare the mean test accuracy along with error bars.\n",
        "def plot_data(data, color, label, gran=10000, max_budget=5000000):\n",
        "  \"\"\"Computes the mean and IQR fixed time steps.\"\"\"\n",
        "  xs = range(0, max_budget+1, gran)\n",
        "  mean = [0.0]\n",
        "  per25 = [0.0]\n",
        "  per75 = [0.0]\n",
        "  \n",
        "  repeats = len(data)\n",
        "  pointers = [1 for _ in range(repeats)]\n",
        "  \n",
        "  cur = gran\n",
        "  while cur < max_budget+1:\n",
        "    all_vals = []\n",
        "    for repeat in range(repeats):\n",
        "      while (pointers[repeat] < len(data[repeat][0]) and \n",
        "             data[repeat][0][pointers[repeat]] < cur):\n",
        "        pointers[repeat] += 1\n",
        "      prev_time = data[repeat][0][pointers[repeat]-1]\n",
        "      prev_test = data[repeat][2][pointers[repeat]-1]\n",
        "      next_time = data[repeat][0][pointers[repeat]]\n",
        "      next_test = data[repeat][2][pointers[repeat]]\n",
        "      assert prev_time < cur and next_time >= cur\n",
        "\n",
        "      # Linearly interpolate the test between the two surrounding points\n",
        "      cur_val = ((cur - prev_time) / (next_time - prev_time)) * (next_test - prev_test) + prev_test\n",
        "      \n",
        "      all_vals.append(cur_val)\n",
        "      \n",
        "    all_vals = sorted(all_vals)\n",
        "    mean.append(sum(all_vals) / float(len(all_vals)))\n",
        "    per25.append(all_vals[int(0.25 * repeats)])\n",
        "    per75.append(all_vals[int(0.75 * repeats)])\n",
        "      \n",
        "    cur += gran\n",
        "    \n",
        "  plt.plot(xs, mean, color=color, label=label, linewidth=2)\n",
        "  plt.fill_between(xs, per25, per75, alpha=0.1, linewidth=0, facecolor=color)\n",
        "\n",
        "plot_data(random_data, 'red', 'random')\n",
        "plot_data(evolution_data, 'blue', 'evolution')\n",
        "plt.legend(loc='lower right')\n",
        "plt.ylim(0.92, 0.95)\n",
        "plt.xlabel('total training time spent (seconds)')\n",
        "plt.ylabel('accuracy')\n",
        "plt.grid()"
      ],
      "execution_count": 7,
      "outputs": [
        {
          "output_type": "display_data",
          "data": {
            "image/png": "[encoded data removed]",
            "text/plain": [
              "<Figure size 432x288 with 1 Axes>"
            ]
          },
          "metadata": {
            "tags": []
          }
        }
      ]
    },
    {
      "cell_type": "markdown",
      "metadata": {
        "id": "DPnRtp0zXUDh",
        "colab_type": "text"
      },
      "source": [
        "## More information\n",
        "\n",
        "For more information on using the dataset, see the API documentation at https://github.com/google-research/nasbench/blob/master/nasbench/api.py.\n"
      ]
    }
  ]
}